{
  "nbformat": 4,
  "nbformat_minor": 0,
  "metadata": {
    "colab": {
      "provenance": []
    },
    "kernelspec": {
      "name": "python3",
      "display_name": "Python 3"
    },
    "language_info": {
      "name": "python"
    }
  },
  "cells": [
    {
      "cell_type": "code",
      "execution_count": null,
      "metadata": {
        "colab": {
          "base_uri": "https://localhost:8080/"
        },
        "id": "Z6iCkvZ3f9Iu",
        "outputId": "f566f60a-7f81-4732-8a26-02c3df33f7bd"
      },
      "outputs": [
        {
          "output_type": "stream",
          "name": "stdout",
          "text": [
            "Original DataFrame:\n",
            "    Integers    Floats\n",
            "0        34  0.062282\n",
            "1        31  0.290198\n",
            "2        12  0.637016\n",
            "3        43  0.951795\n",
            "4        59  0.963884\n",
            "5        69  0.216259\n",
            "6        47  0.901084\n",
            "7        33  0.056119\n",
            "8        11  0.165506\n",
            "9        84  0.999362\n",
            "\n",
            "Filtered DataFrame:\n",
            " Empty DataFrame\n",
            "Columns: [Integers, Floats]\n",
            "Index: []\n"
          ]
        }
      ],
      "source": [
        "import pandas as pd\n",
        "import numpy as np\n",
        "# Create dictionary of lists\n",
        "data = {\n",
        "    'Integers': np.random.randint(10, 101, 10),    # random integers between 10 and 100\n",
        "    'Floats': np.random.random(10)                # random floats between 0 and 1\n",
        "}\n",
        "# Create DataFrame\n",
        "df = pd.DataFrame(data)\n",
        "print(\"Original DataFrame:\\n\", df)\n",
        "# Extract rows where integers are divisible by 5 and float values > 0.5\n",
        "filtered_df = df[(df['Integers'] % 5 == 0) & (df['Floats'] > 0.5)]\n",
        "print(\"\\nFiltered DataFrame:\\n\",filtered_df)"
      ]
    },
    {
      "cell_type": "code",
      "source": [
        "import pandas as pd\n",
        "import numpy as np\n",
        "# Create DataFrame with missing values\n",
        "data = {\n",
        "    'A': [1, 2, np.nan, 4, 5],\n",
        "    'B': [5, np.nan, np.nan, 8, 10],\n",
        "    'C': ['a', 'b', np.nan, 'd', 'e']\n",
        "}\n",
        "df = pd.DataFrame(data)\n",
        "print(\"Original DataFrame:\\n\", df)\n",
        "# (i) Fill missing values in column A with mean of column A\n",
        "df['A'] = df['A'].fillna(df['A'].mean())\n",
        "# (ii) Replace missing values in column B with median of column B\n",
        "df['B'] = df['B'].fillna(df['B'].median())\n",
        "# (iii) Drop rows where column C has missing values\n",
        "df = df.dropna(subset=['C'])\n",
        "print(\"\\nDataFrame after handling missing values:\\n\",df)"
      ],
      "metadata": {
        "colab": {
          "base_uri": "https://localhost:8080/"
        },
        "id": "nKL1kPWvgx0t",
        "outputId": "5c29952b-8862-4064-d62e-09903c3f9b99"
      },
      "execution_count": null,
      "outputs": [
        {
          "output_type": "stream",
          "name": "stdout",
          "text": [
            "Original DataFrame:\n",
            "      A     B    C\n",
            "0  1.0   5.0    a\n",
            "1  2.0   NaN    b\n",
            "2  NaN   NaN  NaN\n",
            "3  4.0   8.0    d\n",
            "4  5.0  10.0    e\n",
            "\n",
            "DataFrame after handling missing values:\n",
            "      A     B  C\n",
            "0  1.0   5.0  a\n",
            "1  2.0   8.0  b\n",
            "3  4.0   8.0  d\n",
            "4  5.0  10.0  e\n"
          ]
        }
      ]
    },
    {
      "cell_type": "code",
      "source": [
        "import pandas as pd\n",
        "# Create DataFrame\n",
        "data = {\n",
        "    'Region': ['North', 'South', 'East', 'West'],\n",
        "    'Product': ['A', 'A', 'B', 'C'],\n",
        "    'Sales': [200, 150, 400, 300]\n",
        "}\n",
        "df = pd.DataFrame(data)\n",
        "print(\"Original DataFrame:\\n\", df)\n",
        "# Pivot the table to show total sales for each product across regions\n",
        "pivot_df = df.pivot_table(index='Product', values='Sales', aggfunc='sum')\n",
        "print(\"\\nPivot Table - Total Sales per Product:\\n\", pivot_df)\n",
        "# Add a new column showing percentage of total sales for each product\n",
        "pivot_df['% of Total Sales'] = (pivot_df['Sales'] / pivot_df['Sales'].sum()) * 100\n",
        "print(\"\\nPivot Table with Percentage of Total Sales:\\n\",pivot_df)"
      ],
      "metadata": {
        "colab": {
          "base_uri": "https://localhost:8080/"
        },
        "id": "mLmOb0f_g5FU",
        "outputId": "4437d930-5f7b-4e84-b229-1a629989b21b"
      },
      "execution_count": null,
      "outputs": [
        {
          "output_type": "stream",
          "name": "stdout",
          "text": [
            "Original DataFrame:\n",
            "   Region Product  Sales\n",
            "0  North       A    200\n",
            "1  South       A    150\n",
            "2   East       B    400\n",
            "3   West       C    300\n",
            "\n",
            "Pivot Table - Total Sales per Product:\n",
            "          Sales\n",
            "Product       \n",
            "A          350\n",
            "B          400\n",
            "C          300\n",
            "\n",
            "Pivot Table with Percentage of Total Sales:\n",
            "          Sales  % of Total Sales\n",
            "Product                         \n",
            "A          350         33.333333\n",
            "B          400         38.095238\n",
            "C          300         28.571429\n"
          ]
        }
      ]
    },
    {
      "cell_type": "code",
      "source": [
        "import pandas as pd\n",
        "import numpy as np\n",
        "\n",
        "# Create a DataFrame with random integers\n",
        "df = pd.DataFrame({\n",
        "    'Numbers': np.random.randint(1, 100, 10)   # 10 random integers between 1 and 100\n",
        "})\n",
        "# Calculate mean\n",
        "mean_val = df['Numbers'].mean()\n",
        "# Define custom function\n",
        "def high_or_low(x):\n",
        "    return \"High\" if x > mean_val else \"Low\"\n",
        "# Apply function and add new column\n",
        "df['Result'] = df['Numbers'].apply(high_or_low)\n",
        "\n",
        "print(\"Mean of column:\", mean_val)\n",
        "print(df)"
      ],
      "metadata": {
        "colab": {
          "base_uri": "https://localhost:8080/"
        },
        "id": "SmZQY947hAXk",
        "outputId": "8d6834d7-4740-4292-f2d8-2a2f2c9bb14a"
      },
      "execution_count": null,
      "outputs": [
        {
          "output_type": "stream",
          "name": "stdout",
          "text": [
            "Mean of column: 55.3\n",
            "   Numbers Result\n",
            "0       82   High\n",
            "1       93   High\n",
            "2       68   High\n",
            "3       40    Low\n",
            "4       56   High\n",
            "5       79   High\n",
            "6       84   High\n",
            "7        4    Low\n",
            "8       26    Low\n",
            "9       21    Low\n"
          ]
        }
      ]
    },
    {
      "cell_type": "code",
      "source": [],
      "metadata": {
        "id": "q4tLgxJahgyx"
      },
      "execution_count": null,
      "outputs": []
    },
    {
      "cell_type": "code",
      "source": [
        "import pandas as pd\n",
        "import numpy as np\n",
        "# Create a Pandas Series\n",
        "\n",
        "s = pd.Series(np.random.randint(1, 100, 15))   # 15 random integers between 1 and 100\n",
        "print(\"Original Series:\\n\", s)\n",
        "\n",
        "# Step 1: Find 75th percentile\n",
        "percentile_75 = s.quantile(0.75)\n",
        "# Step 2: Replace values based on condition\n",
        "new_series = s.apply(lambda x: \"High\" if x > percentile_75 else \"Low\")\n",
        "print(\"\\nNew Series (High/Low based on 75th percentile):\\n\", new_series)\n",
        "# Step 3: Compute cumulative sum of original values\n",
        "cumsum_series = s.cumsum()\n",
        "\n",
        "print(\"\\nCumulative Sum of Original Series:\\n\",cumsum_series)"
      ],
      "metadata": {
        "colab": {
          "base_uri": "https://localhost:8080/"
        },
        "id": "DU2gFxvVhGfB",
        "outputId": "0f831746-489f-4ea5-9be4-6361eccdddf5"
      },
      "execution_count": null,
      "outputs": [
        {
          "output_type": "stream",
          "name": "stdout",
          "text": [
            "Original Series:\n",
            " 0     49\n",
            "1     68\n",
            "2     81\n",
            "3     38\n",
            "4      1\n",
            "5     63\n",
            "6     15\n",
            "7     40\n",
            "8     83\n",
            "9     49\n",
            "10    57\n",
            "11    98\n",
            "12    86\n",
            "13    66\n",
            "14     6\n",
            "dtype: int64\n",
            "\n",
            "New Series (High/Low based on 75th percentile):\n",
            " 0      Low\n",
            "1      Low\n",
            "2     High\n",
            "3      Low\n",
            "4      Low\n",
            "5      Low\n",
            "6      Low\n",
            "7      Low\n",
            "8     High\n",
            "9      Low\n",
            "10     Low\n",
            "11    High\n",
            "12    High\n",
            "13     Low\n",
            "14     Low\n",
            "dtype: object\n",
            "\n",
            "Cumulative Sum of Original Series:\n",
            " 0      49\n",
            "1     117\n",
            "2     198\n",
            "3     236\n",
            "4     237\n",
            "5     300\n",
            "6     315\n",
            "7     355\n",
            "8     438\n",
            "9     487\n",
            "10    544\n",
            "11    642\n",
            "12    728\n",
            "13    794\n",
            "14    800\n",
            "dtype: int64\n"
          ]
        }
      ]
    }
  ]
}