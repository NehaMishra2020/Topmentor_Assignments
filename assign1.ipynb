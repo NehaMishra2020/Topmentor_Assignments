{
  "nbformat": 4,
  "nbformat_minor": 0,
  "metadata": {
    "colab": {
      "provenance": []
    },
    "kernelspec": {
      "name": "python3",
      "display_name": "Python 3"
    },
    "language_info": {
      "name": "python"
    }
  },
  "cells": [
    {
      "cell_type": "code",
      "execution_count": null,
      "metadata": {
        "id": "DJYZdrDePfNL",
        "colab": {
          "base_uri": "https://localhost:8080/"
        },
        "outputId": "bee9d403-86aa-4ef6-b91f-1b8a6c078eab"
      },
      "outputs": [
        {
          "output_type": "stream",
          "name": "stdout",
          "text": [
            "Second largest number: 20\n"
          ]
        }
      ],
      "source": [
        "#1.Write a program to find the second largest number in a list without using built-in functions like max().\n",
        "\n",
        "numbers = [10, 20, 5, 8, 30, 20]\n",
        "largest = numbers[0]\n",
        "second = numbers[0]\n",
        "for num in numbers:\n",
        "    if num > largest:\n",
        "        second = largest\n",
        "        largest = num\n",
        "    elif num > second and num != largest:\n",
        "        second = num\n",
        "print(\"Second largest number:\",second)\n",
        "\n",
        "\n"
      ]
    },
    {
      "cell_type": "code",
      "source": [
        "#2.How would you remove duplicates from a list while maintaining the original order?\n",
        "\n",
        "numbers = [1, 2, 2, 3, 4, 4, 5, 1]\n",
        "new_list = []\n",
        "for num in numbers:\n",
        "    if num not in new_list:\n",
        "        new_list.append(num)\n",
        "print(\"List after removing duplicates:\",new_list)"
      ],
      "metadata": {
        "colab": {
          "base_uri": "https://localhost:8080/"
        },
        "id": "O1wrbPClP53g",
        "outputId": "24680123-ca67-474e-db46-ac7e6dd19d9f"
      },
      "execution_count": null,
      "outputs": [
        {
          "output_type": "stream",
          "name": "stdout",
          "text": [
            "List after removing duplicates: [1, 2, 3, 4, 5]\n"
          ]
        }
      ]
    },
    {
      "cell_type": "code",
      "source": [
        "#3.Write a program to reverse a list in-place without using reverse() or slicing.\n",
        "\n",
        "numbers = [1, 2, 3, 4, 5]\n",
        "# swapping first with last, second with second-last, etc.\n",
        "n = len(numbers)\n",
        "for i in range(n // 2):\n",
        "    numbers[i], numbers[n - i - 1] = numbers[n - i - 1], numbers[i]\n",
        "print(\"Reversed list:\",numbers)"
      ],
      "metadata": {
        "colab": {
          "base_uri": "https://localhost:8080/"
        },
        "id": "s_bFCsn6QBXX",
        "outputId": "0bbd744a-c825-4719-95e8-f388dbd606e3"
      },
      "execution_count": null,
      "outputs": [
        {
          "output_type": "stream",
          "name": "stdout",
          "text": [
            "Reversed list: [5, 4, 3, 2, 1]\n"
          ]
        }
      ]
    },
    {
      "cell_type": "code",
      "source": [
        "#4.Given a list of integers, write code to split it into even and odd numbers.\n",
        "\n",
        "numbers = [1, 2, 3, 4, 5, 6, 7, 8, 9]\n",
        "even_list = []\n",
        "odd_list = []\n",
        "for num in numbers:\n",
        "    if num % 2 == 0:\n",
        "        even_list.append(num)\n",
        "    else:\n",
        "        odd_list.append(num)\n",
        "print(\"Even numbers:\", even_list)\n",
        "print(\"Odd numbers:\",odd_list)\n",
        "\n",
        "\n",
        "\n",
        "\n"
      ],
      "metadata": {
        "colab": {
          "base_uri": "https://localhost:8080/"
        },
        "id": "TErMn2GnQRyT",
        "outputId": "179e186a-7f0e-4687-f23d-fa8d525d1a91"
      },
      "execution_count": null,
      "outputs": [
        {
          "output_type": "stream",
          "name": "stdout",
          "text": [
            "Even numbers: [2, 4, 6, 8]\n",
            "Odd numbers: [1, 3, 5, 7, 9]\n"
          ]
        }
      ]
    },
    {
      "cell_type": "code",
      "source": [
        "#5.Given two lists, write a program to find common elements.\n",
        "\n",
        "list1 = [1, 2, 3, 4, 5]\n",
        "list2 = [3, 4, 5, 6, 7]\n",
        "common = []\n",
        "for i in list1:\n",
        "    if i in list2:\n",
        "        common.append(i)\n",
        "print(\"Common elements:\",common)"
      ],
      "metadata": {
        "colab": {
          "base_uri": "https://localhost:8080/"
        },
        "id": "AmXSOnNBQfuw",
        "outputId": "7df4e054-14d0-48e9-ab37-1f0a7031daf5"
      },
      "execution_count": null,
      "outputs": [
        {
          "output_type": "stream",
          "name": "stdout",
          "text": [
            "Common elements: [3, 4, 5]\n"
          ]
        }
      ]
    },
    {
      "cell_type": "code",
      "source": [
        "#6.Write a program to remove all occurrences of a specific element from a list without using list comprehension.\n",
        "\n",
        "numbers = [1, 2, 3, 2, 4, 2, 5]\n",
        "element = 2\n",
        "while element in numbers:\n",
        "    numbers.remove(element)\n",
        "\n",
        "print(\"List after removing all occurrences:\",numbers)"
      ],
      "metadata": {
        "colab": {
          "base_uri": "https://localhost:8080/"
        },
        "id": "oRpzPYkJQsVp",
        "outputId": "e1a1860c-9e6d-4509-a89d-83199dcae50c"
      },
      "execution_count": null,
      "outputs": [
        {
          "output_type": "stream",
          "name": "stdout",
          "text": [
            "List after removing all occurrences: [1, 3, 4, 5]\n"
          ]
        }
      ]
    },
    {
      "cell_type": "code",
      "source": [
        "#7.Write a Python program to count frequency of each element in a list.\n",
        "\n",
        "numbers = [1, 2, 2, 3, 3, 3, 4, 5]\n",
        "freq = {}\n",
        "for num in numbers:\n",
        "    if num in freq:\n",
        "        freq[num] += 1\n",
        "    else:\n",
        "        freq[num] = 1\n",
        "print(\"Frequency of elements:\",freq)"
      ],
      "metadata": {
        "colab": {
          "base_uri": "https://localhost:8080/"
        },
        "id": "etiuIEZ_RkuL",
        "outputId": "83915dde-342f-43e6-9223-805e9f84f343"
      },
      "execution_count": null,
      "outputs": [
        {
          "output_type": "stream",
          "name": "stdout",
          "text": [
            "Frequency of elements: {1: 1, 2: 2, 3: 3, 4: 1, 5: 1}\n"
          ]
        }
      ]
    },
    {
      "cell_type": "code",
      "source": [
        "#8.Given a list of numbers, find the pair of numbers with the maximum sum.\n",
        "\n",
        "numbers = [5, 7, 2, 9, 4, 8]\n",
        "# Sort the list and take the last two numbers\n",
        "numbers.sort()\n",
        "pair = (numbers[-1], numbers[-2])\n",
        "max_sum = numbers[-1] + numbers[-2]\n",
        "print(\"Pair with maximum sum:\", pair)\n",
        "print(\"Maximum sum:\",max_sum)"
      ],
      "metadata": {
        "colab": {
          "base_uri": "https://localhost:8080/"
        },
        "id": "WMoRsmt_RfRA",
        "outputId": "a3599c32-7f43-47de-9b56-0bea91b4c54c"
      },
      "execution_count": null,
      "outputs": [
        {
          "output_type": "stream",
          "name": "stdout",
          "text": [
            "Pair with maximum sum: (9, 8)\n",
            "Maximum sum: 17\n"
          ]
        }
      ]
    },
    {
      "cell_type": "code",
      "source": [
        "\n",
        "#9.Write a program to check if a string is a palindrome.\n",
        "\n",
        "text = \"madam\"\n",
        "if text == text[::-1]:\n",
        "    print(text, \"is a palindrome\")\n",
        "else:\n",
        "    print(text, \"is not a palindrome\")"
      ],
      "metadata": {
        "colab": {
          "base_uri": "https://localhost:8080/"
        },
        "id": "WwoYi0MoRbBl",
        "outputId": "27e1ca5d-361b-4339-96e2-693ff3800e11"
      },
      "execution_count": null,
      "outputs": [
        {
          "output_type": "stream",
          "name": "stdout",
          "text": [
            "madam is a palindrome\n"
          ]
        }
      ]
    },
    {
      "cell_type": "code",
      "source": [
        "#10.How would you count vowels and consonants in a string?\n",
        "\n",
        "text = \"Hello World\"\n",
        "vowels = \"aeiouAEIOU\"\n",
        "v = 0\n",
        "c = 0\n",
        "for ch in text:\n",
        "    if ch.isalpha():\n",
        "        if ch in vowels:\n",
        "            v += 1\n",
        "        else:\n",
        "            c += 1\n",
        "print(\"Vowels:\", v)\n",
        "print(\"Consonants:\",c)"
      ],
      "metadata": {
        "colab": {
          "base_uri": "https://localhost:8080/"
        },
        "id": "PpDf1Jf_RSkM",
        "outputId": "5a9e7a13-4860-47d7-f948-ec707783db2b"
      },
      "execution_count": null,
      "outputs": [
        {
          "output_type": "stream",
          "name": "stdout",
          "text": [
            "Vowels: 3\n",
            "Consonants: 7\n"
          ]
        }
      ]
    },
    {
      "cell_type": "code",
      "source": [
        "#11.Write a function to reverse the words in a sentence. Example: \"Hello World\" → \"World Hello\".\n",
        "\n",
        "text = \"Hello World\"\n",
        "words = text.split()\n",
        "reversed_words = \" \".join(reversed(words))\n",
        "print(reversed_words)"
      ],
      "metadata": {
        "colab": {
          "base_uri": "https://localhost:8080/"
        },
        "id": "38Mw9Xq6RMUq",
        "outputId": "ff05fb05-4ae3-452f-9b58-d2541907deb9"
      },
      "execution_count": null,
      "outputs": [
        {
          "output_type": "stream",
          "name": "stdout",
          "text": [
            "World Hello\n"
          ]
        }
      ]
    },
    {
      "cell_type": "code",
      "source": [
        "#12.Check if two strings are anagrams of each other.\n",
        "\n",
        "s1 = \"listen\"\n",
        "s2 = \"silent\"\n",
        "if sorted(s1) == sorted(s2):\n",
        "    print(\"Anagrams\")\n",
        "else:\n",
        "    print(\"Not Anagrams\")"
      ],
      "metadata": {
        "colab": {
          "base_uri": "https://localhost:8080/"
        },
        "id": "gh3KCHnRRFhL",
        "outputId": "36a4ab81-2886-4f6c-cb3a-fe8f734f4e6a"
      },
      "execution_count": null,
      "outputs": [
        {
          "output_type": "stream",
          "name": "stdout",
          "text": [
            "Anagrams\n"
          ]
        }
      ]
    },
    {
      "cell_type": "code",
      "source": [
        "#13.Write a function to find the first non-repeating character in a string.\n",
        "\n",
        "text = \"aabbcdeff\"\n",
        "for ch in text:\n",
        "    if text.count(ch) == 1:\n",
        "        print(\"First non-repeating character:\", ch)\n",
        "    break"
      ],
      "metadata": {
        "id": "CRwxQ--yQ34L"
      },
      "execution_count": null,
      "outputs": []
    },
    {
      "cell_type": "code",
      "source": [
        "#14.Remove all duplicate characters from a string.\n",
        "\n",
        "text = \"programming\"\n",
        "result = \"\"\n",
        "for ch in text:\n",
        "    if ch not in result:\n",
        "        result += ch\n",
        "\n",
        "print(\"String after removing duplicates:\",result)"
      ],
      "metadata": {
        "colab": {
          "base_uri": "https://localhost:8080/"
        },
        "id": "0Isg7uWDQzaq",
        "outputId": "ff45a805-9df2-449a-ba70-711d306deb14"
      },
      "execution_count": null,
      "outputs": [
        {
          "output_type": "stream",
          "name": "stdout",
          "text": [
            "String after removing duplicates: progamin\n"
          ]
        }
      ]
    },
    {
      "cell_type": "code",
      "source": [
        "#15.Find the most frequent character in a string.\n",
        "\n",
        "text = \"programming\"\n",
        "freq = {}\n",
        "for ch in text:\n",
        "    if ch in freq:\n",
        "        freq[ch] += 1\n",
        "    else:\n",
        "        freq[ch] = 1\n",
        "most_frequent = max(freq, key=freq.get)\n",
        "print(\"Most frequent character:\",most_frequent)"
      ],
      "metadata": {
        "colab": {
          "base_uri": "https://localhost:8080/"
        },
        "id": "LTzHMiVWQyAz",
        "outputId": "1326af7d-3d62-40f5-d3d4-b25899cc5b9f"
      },
      "execution_count": null,
      "outputs": [
        {
          "output_type": "stream",
          "name": "stdout",
          "text": [
            "Most frequent character: r\n"
          ]
        }
      ]
    },
    {
      "cell_type": "code",
      "source": [
        "#16.Write a program to capitalize the first letter of each word in a sentence.\n",
        "\n",
        "sentence = \"python is fun\"\n",
        "words = sentence.split()\n",
        "new_sentence = \" \".join(word.capitalize() for word in words)\n",
        "print(\"Capitalized sentence:\",new_sentence)"
      ],
      "metadata": {
        "colab": {
          "base_uri": "https://localhost:8080/"
        },
        "id": "0iFPnaIDXlOq",
        "outputId": "c991d8f7-861a-4f10-cfe2-91dad5a1e24c"
      },
      "execution_count": null,
      "outputs": [
        {
          "output_type": "stream",
          "name": "stdout",
          "text": [
            "Capitalized sentence: Python Is Fun\n"
          ]
        }
      ]
    },
    {
      "cell_type": "code",
      "source": [
        "#17.Write a function to compress a string by replacing repeating characters with count: Example: \"aaabbc\" → \"a3b2c1\"\n",
        "\n",
        "text = \"aaabbcddd\"\n",
        "result = \"\"\n",
        "count = 1\n",
        "for i in range(len(text) - 1):\n",
        "    if text[i] == text[i + 1]:\n",
        "        count += 1\n",
        "    else:\n",
        "        result += text[i] + str(count)\n",
        "        count = 1\n",
        "result += text[-1] + str(count)\n",
        "print(\"Compressed string:\",result)\n",
        "\n"
      ],
      "metadata": {
        "colab": {
          "base_uri": "https://localhost:8080/"
        },
        "id": "A4wR616KW8YB",
        "outputId": "571b6d39-c7ef-400a-8ca1-92d2232868a8"
      },
      "execution_count": null,
      "outputs": [
        {
          "output_type": "stream",
          "name": "stdout",
          "text": [
            "Compressed string: a3b2c1d3\n"
          ]
        }
      ]
    },
    {
      "cell_type": "code",
      "source": [
        "#18.Given a string, find the longest word.\n",
        "\n",
        "sentence = \"Python is a powerful programming language\"\n",
        "words = sentence.split()\n",
        "\n",
        "longest = words[0]\n",
        "for word in words:\n",
        "    if len(word) > len(longest):\n",
        "        longest = word\n",
        "print(\"Longest word:\",longest)\n",
        "\n"
      ],
      "metadata": {
        "colab": {
          "base_uri": "https://localhost:8080/"
        },
        "id": "0cjVjbvzXIyZ",
        "outputId": "9342de68-25fd-4ad2-dc0c-08dbcaa2a5ed"
      },
      "execution_count": null,
      "outputs": [
        {
          "output_type": "stream",
          "name": "stdout",
          "text": [
            "Longest word: programming\n"
          ]
        }
      ]
    },
    {
      "cell_type": "code",
      "source": [
        "#19.Create a tuple from input values and unpack it into variables.\n",
        "\n",
        "my_tuple = (10, 20, 30)\n",
        "a, b, c = my_tuple\n",
        "print(\"a:\", a, \"b:\",b,\"c:\",c)\n",
        "\n"
      ],
      "metadata": {
        "colab": {
          "base_uri": "https://localhost:8080/"
        },
        "id": "qsUQwMIIXS86",
        "outputId": "b5e57b27-81d3-4ef9-dab9-721feb147287"
      },
      "execution_count": null,
      "outputs": [
        {
          "output_type": "stream",
          "name": "stdout",
          "text": [
            "a: 10 b: 20 c: 30\n"
          ]
        }
      ]
    },
    {
      "cell_type": "code",
      "source": [
        "#20.Given a list of tuples, write a program to sort the list by the second element of each tuple.\n",
        "\n",
        "data = [(1, 3), (2, 1), (4, 2)]\n",
        "sorted_list = sorted(data, key=lambda x: x[1])\n",
        "print(\"Sorted list:\",sorted_list)"
      ],
      "metadata": {
        "colab": {
          "base_uri": "https://localhost:8080/"
        },
        "id": "7h519Kq2XXf-",
        "outputId": "411aeca2-781b-4e8c-92d2-61b96c3b1d33"
      },
      "execution_count": null,
      "outputs": [
        {
          "output_type": "stream",
          "name": "stdout",
          "text": [
            "Sorted list: [(2, 1), (4, 2), (1, 3)]\n"
          ]
        }
      ]
    },
    {
      "cell_type": "code",
      "source": [
        "#21.How do you concatenate multiple tuples into a single one?\n",
        "\n",
        "t1 = (1, 2)\n",
        "t2 = (3, 4)\n",
        "t3 = (5, 6)\n",
        "result = t1 + t2 + t3\n",
        "print(\"Concatenated tuple:\",result)"
      ],
      "metadata": {
        "colab": {
          "base_uri": "https://localhost:8080/"
        },
        "id": "TmqLgVLBXbCS",
        "outputId": "aa0ebe69-82a2-4af1-beb7-76905eb4c091"
      },
      "execution_count": null,
      "outputs": [
        {
          "output_type": "stream",
          "name": "stdout",
          "text": [
            "Concatenated tuple: (1, 2, 3, 4, 5, 6)\n"
          ]
        }
      ]
    },
    {
      "cell_type": "code",
      "source": [
        "#22.Write a function that takes a tuple of numbers and returns the sum of all numbers.\n",
        "\n",
        "def sum_tuple(numbers):\n",
        "    total = 0\n",
        "    for n in numbers:\n",
        "        total += n\n",
        "    return total\n",
        "print(\"Sum of tuple:\", sum_tuple((1,2,3,4,5)))"
      ],
      "metadata": {
        "colab": {
          "base_uri": "https://localhost:8080/"
        },
        "id": "wvpAJf_VXglt",
        "outputId": "7f1abc8e-4f15-4661-d5a5-f8b85ab8fb11"
      },
      "execution_count": null,
      "outputs": [
        {
          "output_type": "stream",
          "name": "stdout",
          "text": [
            "Sum of tuple: 15\n"
          ]
        }
      ]
    },
    {
      "cell_type": "code",
      "source": [
        "#23.Explain what happens if you try to modify a tuple — write code to show this.\n",
        "\n",
        "t = (1, 2, 3)\n",
        "# t[0] = 10  # This will give an error\n",
        "print(\"Tuples are immutable, we cannot modify elements.\")"
      ],
      "metadata": {
        "colab": {
          "base_uri": "https://localhost:8080/"
        },
        "id": "0pLCLM6LXOON",
        "outputId": "3ea1b5d1-f0eb-4688-a01c-174526984314"
      },
      "execution_count": null,
      "outputs": [
        {
          "output_type": "stream",
          "name": "stdout",
          "text": [
            "Tuples are immutable, we cannot modify elements.\n"
          ]
        }
      ]
    },
    {
      "cell_type": "code",
      "source": [
        "#24.Given a tuple like (1, [2, 3], 4), try to change the list inside the tuple. What happens?\n",
        "\n",
        "t = (1, [2, 3], 4)\n",
        "t[1][0] = 99   # Allowed because list is mutable\n",
        "print(\"Modified tuple:\",t)"
      ],
      "metadata": {
        "colab": {
          "base_uri": "https://localhost:8080/"
        },
        "id": "-bdINN1EWVRg",
        "outputId": "ab59167c-b98c-42f4-d9d8-e5a0e869a55a"
      },
      "execution_count": null,
      "outputs": [
        {
          "output_type": "stream",
          "name": "stdout",
          "text": [
            "Modified tuple: (1, [99, 3], 4)\n"
          ]
        }
      ]
    },
    {
      "cell_type": "code",
      "source": [
        "#25.Write a program to remove duplicates from a list of tuples\n",
        "\n",
        "data = [(1, 2), (3, 4), (1, 2), (5, 6)]\n",
        "unique = []\n",
        "for item in data:\n",
        "    if item not in unique:\n",
        "        unique.append(item)\n",
        "print(\"After removing duplicates:\",unique)\n"
      ],
      "metadata": {
        "colab": {
          "base_uri": "https://localhost:8080/"
        },
        "id": "iGR31tN6TvFL",
        "outputId": "0d3a007b-bf45-48f5-bec4-be6d3d245ef9"
      },
      "execution_count": null,
      "outputs": [
        {
          "output_type": "stream",
          "name": "stdout",
          "text": [
            "After removing duplicates: [(1, 2), (3, 4), (5, 6)]\n"
          ]
        }
      ]
    },
    {
      "cell_type": "code",
      "source": [
        "#26.Convert a tuple of strings to a single string. Example: ('Hello', 'World') → \"Hello World\"\n",
        "\n",
        "t = (\"Hello\", \"World\")\n",
        "result = \" \".join(t)\n",
        "print(\"Converted string:\",result)"
      ],
      "metadata": {
        "colab": {
          "base_uri": "https://localhost:8080/"
        },
        "id": "crCoqE2RWSOk",
        "outputId": "eaa1b0e8-af87-4c6c-bee7-39e0b335a383"
      },
      "execution_count": null,
      "outputs": [
        {
          "output_type": "stream",
          "name": "stdout",
          "text": [
            "Converted string: Hello World\n"
          ]
        }
      ]
    },
    {
      "cell_type": "code",
      "source": [
        "\n",
        "#27.Given a tuple of numbers, find the maximum and minimum without using max() or min().\n",
        "\n",
        "numbers = [10, 3, 45, 2, 18]\n",
        "maximum = minimum = numbers[0]\n",
        "for num in numbers:\n",
        "    if num > maximum:\n",
        "        maximum = num\n",
        "    if num < minimum:\n",
        "        minimum = num\n",
        "print(\"Maximum:\", maximum)\n",
        "print(\"Minimum:\",minimum)"
      ],
      "metadata": {
        "colab": {
          "base_uri": "https://localhost:8080/"
        },
        "id": "EKR35KArWWY2",
        "outputId": "ad89338e-0d8f-48bf-bf27-67ada3f4df0b"
      },
      "execution_count": null,
      "outputs": [
        {
          "output_type": "stream",
          "name": "stdout",
          "text": [
            "Maximum: 45\n",
            "Minimum: 2\n"
          ]
        }
      ]
    },
    {
      "cell_type": "code",
      "source": [
        "#28.Write a program to find the union, intersection, and difference between two set\n",
        "set1 = {1, 2, 3, 4}\n",
        "set2 = {3, 4, 5, 6}\n",
        "print(\"Union:\", set1 | set2)\n",
        "print(\"Intersection:\", set1 & set2)\n",
        "print(\"Difference (set1 - set2):\",set1-set2)"
      ],
      "metadata": {
        "colab": {
          "base_uri": "https://localhost:8080/"
        },
        "id": "BorM0MZ6TtzC",
        "outputId": "ed2180d9-aeaa-496c-f34d-4c124f4ce4f2"
      },
      "execution_count": null,
      "outputs": [
        {
          "output_type": "stream",
          "name": "stdout",
          "text": [
            "Union: {1, 2, 3, 4, 5, 6}\n",
            "Intersection: {3, 4}\n",
            "Difference (set1 - set2): {1, 2}\n"
          ]
        }
      ]
    },
    {
      "cell_type": "code",
      "source": [
        "\n",
        "#29.Given two sets, check whether one is a subset or superset of the other.\n",
        "\n",
        "a = {1, 2}\n",
        "b = {1, 2, 3, 4}\n",
        "print(\"a is subset of b:\", a.issubset(b))\n",
        "print(\"b is superset of a:\", b.issuperset(a))"
      ],
      "metadata": {
        "colab": {
          "base_uri": "https://localhost:8080/"
        },
        "id": "dFrc1M77TptZ",
        "outputId": "8656de9c-fb10-4d47-e6d5-f18b3cc24449"
      },
      "execution_count": null,
      "outputs": [
        {
          "output_type": "stream",
          "name": "stdout",
          "text": [
            "a is subset of b: True\n",
            "b is superset of a: True\n"
          ]
        }
      ]
    },
    {
      "cell_type": "code",
      "source": [
        "#30.Write a program to remove duplicate elements from a list using a set\n",
        "numbers = [1, 2, 2, 3, 4, 4, 5]\n",
        "unique = list(set(numbers))\n",
        "print(\"List without duplicates:\",unique)\n",
        "\n",
        "\n"
      ],
      "metadata": {
        "colab": {
          "base_uri": "https://localhost:8080/"
        },
        "id": "Art3FEVqTXAO",
        "outputId": "0c514086-1205-439a-e0ed-e5c5cf546e81"
      },
      "execution_count": null,
      "outputs": [
        {
          "output_type": "stream",
          "name": "stdout",
          "text": [
            "List without duplicates: [1, 2, 3, 4, 5]\n"
          ]
        }
      ]
    },
    {
      "cell_type": "code",
      "source": [
        "#31.Given a string, count the number of unique characters using a set.\n",
        "\n",
        "text = \"programming\"\n",
        "unique_chars = set(text)\n",
        "print(\"Unique characters:\", unique_chars)\n",
        "print(\"Count:\", len(unique_chars))"
      ],
      "metadata": {
        "colab": {
          "base_uri": "https://localhost:8080/"
        },
        "id": "SagWWo0PTiIK",
        "outputId": "62485a65-40ef-44ec-9509-7d4797ead990"
      },
      "execution_count": null,
      "outputs": [
        {
          "output_type": "stream",
          "name": "stdout",
          "text": [
            "Unique characters: {'n', 'g', 'o', 'p', 'r', 'm', 'i', 'a'}\n",
            "Count: 8\n"
          ]
        }
      ]
    },
    {
      "cell_type": "code",
      "source": [
        "#32.Write a program to find common elements between three sets.\n",
        "\n",
        "s1 = {1, 2, 3, 4}\n",
        "s2 = {2, 3, 5}\n",
        "s3 = {2, 3, 6}\n",
        "common = s1 & s2 & s3\n",
        "print(\"Common elements:\",common)"
      ],
      "metadata": {
        "colab": {
          "base_uri": "https://localhost:8080/"
        },
        "id": "018HXombTbho",
        "outputId": "50e00d39-0c11-4626-d979-66bdc2fa8f14"
      },
      "execution_count": null,
      "outputs": [
        {
          "output_type": "stream",
          "name": "stdout",
          "text": [
            "Common elements: {2, 3}\n"
          ]
        }
      ]
    },
    {
      "cell_type": "code",
      "source": [
        "#33.How would you update a set with multiple new values?\n",
        "\n",
        "s = {1, 2, 3}\n",
        "s.update([4, 5, 6])\n",
        "print(\"Updated set:\",s)\n"
      ],
      "metadata": {
        "colab": {
          "base_uri": "https://localhost:8080/"
        },
        "id": "uEM8gbFUTfPQ",
        "outputId": "f03dce3f-5693-4766-bcf6-3b51b2c0aa1c"
      },
      "execution_count": null,
      "outputs": [
        {
          "output_type": "stream",
          "name": "stdout",
          "text": [
            "Updated set: {1, 2, 3, 4, 5, 6}\n"
          ]
        }
      ]
    },
    {
      "cell_type": "code",
      "source": [
        "#34.Write code to check whether two sets are disjoint (i.e., no common elements).\n",
        "\n",
        "a = {1, 2, 3}\n",
        "b = {4, 5, 6}\n",
        "print(\"Are sets disjoint?\", a.isdisjoint(b))"
      ],
      "metadata": {
        "colab": {
          "base_uri": "https://localhost:8080/"
        },
        "id": "OzeXA7VfbRAr",
        "outputId": "47a71d43-1689-42c9-99e2-8ce275935c43"
      },
      "execution_count": null,
      "outputs": [
        {
          "output_type": "stream",
          "name": "stdout",
          "text": [
            "Are sets disjoint? True\n"
          ]
        }
      ]
    },
    {
      "cell_type": "code",
      "source": [
        "#35.Remove an element from a set using both remove() and discard(). Explain the difference.\n",
        "\n",
        "s = {1, 2, 3}\n",
        "s.remove(2)   # removes 2\n",
        "# s.remove(5) #  gives error if element not found\n",
        "s.discard(5)  #  no error if element not found\n",
        "print(\"Final set:\",s)"
      ],
      "metadata": {
        "colab": {
          "base_uri": "https://localhost:8080/"
        },
        "id": "IvIGIAvsTEx4",
        "outputId": "828f2c19-0808-4d1e-facc-8d36866d550b"
      },
      "execution_count": null,
      "outputs": [
        {
          "output_type": "stream",
          "name": "stdout",
          "text": [
            "Final set: {1, 3}\n"
          ]
        }
      ]
    },
    {
      "cell_type": "code",
      "source": [
        "#36.Given a list of strings, use sets to find which strings are completely unique (no repeated letters).\n",
        "\n",
        "words = [\"abc\", \"hello\", \"world\", \"python\"]\n",
        "unique_strings = []\n",
        "for word in words:\n",
        "    if len(set(word)) == len(word):\n",
        "        unique_strings.append(word)\n",
        "print(\"Completely unique strings:\",unique_strings)"
      ],
      "metadata": {
        "colab": {
          "base_uri": "https://localhost:8080/"
        },
        "id": "JdoUJ754S-mb",
        "outputId": "d20677ea-7347-4ab6-b803-b1ad70b6e98f"
      },
      "execution_count": null,
      "outputs": [
        {
          "output_type": "stream",
          "name": "stdout",
          "text": [
            "Completely unique strings: ['abc', 'world', 'python']\n"
          ]
        }
      ]
    },
    {
      "cell_type": "code",
      "source": [
        "\n",
        "#37.Create two sets: one from vowels in a string, and another from consonants — then print both.\n",
        "\n",
        "text = \"programming\"\n",
        "vowels = set(\"aeiou\")\n",
        "text_set = set(text)\n",
        "vowel_set = text_set & vowels\n",
        "consonant_set = text_set - vowels\n",
        "print(\"Vowels:\", vowel_set)\n",
        "print(\"Consonants:\",consonant_set)"
      ],
      "metadata": {
        "colab": {
          "base_uri": "https://localhost:8080/"
        },
        "id": "-MFUEx9JSt6r",
        "outputId": "f9b69223-d6ce-481a-e539-b5253ce65b42"
      },
      "execution_count": null,
      "outputs": [
        {
          "output_type": "stream",
          "name": "stdout",
          "text": [
            "Vowels: {'o', 'a', 'i'}\n",
            "Consonants: {'n', 'g', 'p', 'r', 'm'}\n"
          ]
        }
      ]
    }
  ]
}