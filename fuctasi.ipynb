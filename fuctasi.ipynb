{
  "nbformat": 4,
  "nbformat_minor": 0,
  "metadata": {
    "colab": {
      "provenance": []
    },
    "kernelspec": {
      "name": "python3",
      "display_name": "Python 3"
    },
    "language_info": {
      "name": "python"
    }
  },
  "cells": [
    {
      "cell_type": "code",
      "execution_count": null,
      "metadata": {
        "colab": {
          "base_uri": "https://localhost:8080/"
        },
        "id": "9L4-BozOeMYp",
        "outputId": "6da550e2-d024-4aab-e24d-07a71eb1b69d"
      },
      "outputs": [
        {
          "output_type": "stream",
          "name": "stdout",
          "text": [
            "[2, 4, 6]\n"
          ]
        }
      ],
      "source": [
        "#1.Write a function that accepts a list of numbers and returns a new list with only even numbers.\n",
        "\n",
        "def get_even_numbers(numbers):\n",
        "    return [num for num in numbers if num % 2 == 0]\n",
        "\n",
        "print( get_even_numbers([1, 2, 3, 4, 5, 6]))\n"
      ]
    },
    {
      "cell_type": "code",
      "source": [
        "#2.Create a function to calculate the factorial of a given number without using recursion.\n",
        "\n",
        "def factorial(n):\n",
        "    result = 1\n",
        "    for i in range(1, n + 1):\n",
        "        result *= i\n",
        "    return result\n",
        "\n",
        "print( factorial(5))\n"
      ],
      "metadata": {
        "colab": {
          "base_uri": "https://localhost:8080/"
        },
        "id": "g8KFt2w6ek_L",
        "outputId": "f9fe6bb4-457f-4a75-c946-cc8034887969"
      },
      "execution_count": null,
      "outputs": [
        {
          "output_type": "stream",
          "name": "stdout",
          "text": [
            "120\n"
          ]
        }
      ]
    },
    {
      "cell_type": "code",
      "source": [
        "#3.Write a function that takes a sentence as input and returns the number of vowels in it.\n",
        "\n",
        "def count_vowels(sentence):\n",
        "    vowels = \"aeiouAEIOU\"\n",
        "    return sum(1 for ch in sentence if ch in vowels)\n",
        "\n",
        "print( count_vowels(\"Hello World\"))"
      ],
      "metadata": {
        "colab": {
          "base_uri": "https://localhost:8080/"
        },
        "id": "F4RoSpU4egPo",
        "outputId": "76e912ef-5e83-4480-b330-d2f193778596"
      },
      "execution_count": null,
      "outputs": [
        {
          "output_type": "stream",
          "name": "stdout",
          "text": [
            "3\n"
          ]
        }
      ]
    },
    {
      "cell_type": "code",
      "source": [
        "#4.Implement a function that receives a list of strings and returns a dictionary with word lengths as keys and words of that length as values.\n",
        "\n",
        "def words_by_length(words):\n",
        "    result = {}\n",
        "    for word in words:\n",
        "        result.setdefault(len(word), [ ]).append(word)\n",
        "    return result\n",
        "\n",
        "print(words_by_length([\"hi\", \"hello\", \"bye\", \"yes\"]))"
      ],
      "metadata": {
        "colab": {
          "base_uri": "https://localhost:8080/"
        },
        "id": "8qkyh7RZec_K",
        "outputId": "82888856-f824-46f7-b5c3-e1e83808d2ac"
      },
      "execution_count": null,
      "outputs": [
        {
          "output_type": "stream",
          "name": "stdout",
          "text": [
            "{2: ['hi'], 5: ['hello'], 3: ['bye', 'yes']}\n"
          ]
        }
      ]
    },
    {
      "cell_type": "code",
      "source": [
        "#5.Define a function that accepts a list of integers and returns the second highest number.\n",
        "\n",
        "def second_highest(nums):\n",
        "    unique_nums = list(set(nums))\n",
        "    unique_nums.sort()\n",
        "    return unique_nums[-2] if len(unique_nums) >= 2 else None\n",
        "\n",
        "print(second_highest([10, 20, 4, 45, 99, 99]))"
      ],
      "metadata": {
        "colab": {
          "base_uri": "https://localhost:8080/"
        },
        "id": "W3hI8yKCeaU1",
        "outputId": "b548856f-7cf2-4bcf-d4f7-b7e6747c7ea2"
      },
      "execution_count": null,
      "outputs": [
        {
          "output_type": "stream",
          "name": "stdout",
          "text": [
            "45\n"
          ]
        }
      ]
    },
    {
      "cell_type": "code",
      "source": [
        "#6.Write a program that takes two numbers as input and divides them. Handle the case when the denominator is zero.\n",
        "\n",
        "def safe_divide(a, b):\n",
        "    try:\n",
        "        return a / b\n",
        "    except ZeroDivisionError:\n",
        "        return \"Error: Division by zero not allowed\"\n",
        "\n",
        "print(safe_divide(10, 2))\n",
        "print(safe_divide(5, 0))\n"
      ],
      "metadata": {
        "colab": {
          "base_uri": "https://localhost:8080/"
        },
        "id": "CllBS0i0eW65",
        "outputId": "eb47d56d-94d4-42eb-e09d-5fe49582a7dc"
      },
      "execution_count": null,
      "outputs": [
        {
          "output_type": "stream",
          "name": "stdout",
          "text": [
            "5.0\n",
            "Error: Division by zero not allowed\n"
          ]
        }
      ]
    },
    {
      "cell_type": "code",
      "source": [
        "#7.Create a calculator using functions for add, subtract, multiply, and divide. Handle invalid inputs.\n",
        "\n",
        "def add(a, b): return a + b\n",
        "def subtract(a, b): return a - b\n",
        "def multiply(a, b): return a * b\n",
        "def divide(a, b):\n",
        "    try:\n",
        "        return a / b\n",
        "    except ZeroDivisionError:\n",
        "        return \"Error: Division by zero\"\n",
        "\n",
        "print(add(5, 3), subtract(5, 3), multiply(5, 3), divide(5, 0))"
      ],
      "metadata": {
        "colab": {
          "base_uri": "https://localhost:8080/"
        },
        "id": "szzf_wlJeTcY",
        "outputId": "7fb88d1b-b580-4d04-f5f2-8d7595689151"
      },
      "execution_count": null,
      "outputs": [
        {
          "output_type": "stream",
          "name": "stdout",
          "text": [
            "8 2 15 Error: Division by zero\n"
          ]
        }
      ]
    },
    {
      "cell_type": "code",
      "source": [
        "#8.You are reading a file line by line. Write a function that safely reads the file and prints lines, handling errors.\n",
        "\n",
        "def safe_read_file(filename):\n",
        "    try:\n",
        "        with open(filename, \"r\") as file:\n",
        "            for line in file:\n",
        "                print(line.strip())\n",
        "    except FileNotFoundError:\n",
        "        print(\"Error: File Not Found\")\n",
        "    except PermissionError:\n",
        "        print(\"Error: Permission Denied\")\n"
      ],
      "metadata": {
        "id": "x-Ctwyq_e2FW"
      },
      "execution_count": null,
      "outputs": []
    },
    {
      "cell_type": "code",
      "source": [
        "#9.Write a function to convert a string to an integer. Use try-except to handle invalid inputs.\n",
        "\n",
        "def str_to_int(s):\n",
        "    try:\n",
        "        return int(s)\n",
        "    except ValueError:\n",
        "        return \"Error: Invalid integer input\"\n",
        "\n",
        "print( str_to_int(\"123\"))\n",
        "print( str_to_int(\"abc\"))\n"
      ],
      "metadata": {
        "colab": {
          "base_uri": "https://localhost:8080/"
        },
        "id": "WskfVPubfR3X",
        "outputId": "81929073-ae5a-40ee-c525-fb0a12808a1c"
      },
      "execution_count": null,
      "outputs": [
        {
          "output_type": "stream",
          "name": "stdout",
          "text": [
            "123\n",
            "Error: Invalid integer input\n"
          ]
        }
      ]
    },
    {
      "cell_type": "code",
      "source": [
        "#10.Given monthly sales in a list, calculate total annual sales.\n",
        "\n",
        "def total_sales(sales):\n",
        "    return sum(sales)\n",
        "\n",
        "print( total_sales([100, 200, 150, 175, 120, 300]))"
      ],
      "metadata": {
        "colab": {
          "base_uri": "https://localhost:8080/"
        },
        "id": "2CUU0cJYfMfp",
        "outputId": "e7e8b672-a708-4e56-cdff-c0a52153fb4b"
      },
      "execution_count": null,
      "outputs": [
        {
          "output_type": "stream",
          "name": "stdout",
          "text": [
            "1045\n"
          ]
        }
      ]
    },
    {
      "cell_type": "code",
      "source": [
        "#11.Find the average score in a list of student scores, excluding empty cells.\n",
        "\n",
        "def average_score(scores):\n",
        "    valid_scores = [s for s in scores if s is not None]\n",
        "    return sum(valid_scores) / len(valid_scores) if valid_scores else 0\n",
        "\n",
        "print(average_score([80, 90, None, 70, 100]))"
      ],
      "metadata": {
        "colab": {
          "base_uri": "https://localhost:8080/"
        },
        "id": "TepY7xTDfFGV",
        "outputId": "0527e37c-2ee4-4c79-be3a-99ecd988bdfd"
      },
      "execution_count": null,
      "outputs": [
        {
          "output_type": "stream",
          "name": "stdout",
          "text": [
            "85.0\n"
          ]
        }
      ]
    },
    {
      "cell_type": "code",
      "source": [
        "#12.String Task: Extract first name from full names.\n",
        "\n",
        "def extract_first_names(names):\n",
        "    return [name.split()[0] for name in names]\n",
        "\n",
        "print(extract_first_names([\"Neha Mishra\", \"Anjana mohan\", \"Bobby singh\"]))"
      ],
      "metadata": {
        "colab": {
          "base_uri": "https://localhost:8080/"
        },
        "id": "1l4gi1LEfbDG",
        "outputId": "29a7d0ec-1020-4d28-df13-6b1dc66ea461"
      },
      "execution_count": null,
      "outputs": [
        {
          "output_type": "stream",
          "name": "stdout",
          "text": [
            "['Neha', 'Anjana', 'Bobby']\n"
          ]
        }
      ]
    },
    {
      "cell_type": "code",
      "source": [
        "#13.Extract domain names from email addresses.\n",
        "\n",
        "def extract_domains(emails):\n",
        "    return [email.split(\"@\")[1] for email in emails]\n",
        "\n",
        "print(extract_domains([\"nehasd@gmail.com\", \"pooja@gmail.com\"]))\n",
        "\n"
      ],
      "metadata": {
        "colab": {
          "base_uri": "https://localhost:8080/"
        },
        "id": "aRZaP6O_e9nv",
        "outputId": "fe02346e-66c5-43c2-d99d-3449b0072fc0"
      },
      "execution_count": null,
      "outputs": [
        {
          "output_type": "stream",
          "name": "stdout",
          "text": [
            "['gmail.com', 'gmail.com']\n"
          ]
        }
      ]
    },
    {
      "cell_type": "code",
      "source": [
        "#14.Concatenate first name in Column A and last name in Column B with a hyphen, in uppercase.\n",
        "\n",
        "def concat_names(first_names, last_names):\n",
        "    return [f\"{f}-{l}\".upper() for f, l in zip(first_names, last_names)]\n",
        "\n",
        "print(concat_names([\"John\", \"Alice\"], [\"Doe\", \"Smith\"]))"
      ],
      "metadata": {
        "colab": {
          "base_uri": "https://localhost:8080/"
        },
        "id": "KvY6PP2BfIqo",
        "outputId": "1f569ac3-dc20-4d05-de06-bc7511519738"
      },
      "execution_count": null,
      "outputs": [
        {
          "output_type": "stream",
          "name": "stdout",
          "text": [
            "['JOHN-DOE', 'ALICE-SMITH']\n"
          ]
        }
      ]
    }
  ]
}