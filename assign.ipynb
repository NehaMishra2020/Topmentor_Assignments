{
  "nbformat": 4,
  "nbformat_minor": 0,
  "metadata": {
    "colab": {
      "provenance": []
    },
    "kernelspec": {
      "name": "python3",
      "display_name": "Python 3"
    },
    "language_info": {
      "name": "python"
    }
  },
  "cells": [
    {
      "cell_type": "code",
      "execution_count": null,
      "metadata": {
        "colab": {
          "base_uri": "https://localhost:8080/"
        },
        "id": "YH5fe1eXhkV8",
        "outputId": "e5a83129-68d4-4071-afb9-680bab4356d6"
      },
      "outputs": [
        {
          "output_type": "stream",
          "name": "stdout",
          "text": [
            "1\n",
            "Even number found: 2\n"
          ]
        }
      ],
      "source": [
        "#Ques.1. Print numbers from 1 to 10. If a number is even, break the loop using a for loop and else clause.\n",
        "\n",
        "for i in range(1, 11):\n",
        "    if i % 2 == 0:\n",
        "        print(\"Even number found:\", i)\n",
        "        break\n",
        "    print(i)\n",
        "else:\n",
        "    print(\"Loop finished without break\")\n"
      ]
    },
    {
      "cell_type": "code",
      "source": [
        "#Ques.2. Print numbers from 1 to 5, except 3 using a for loop and continue statement.\n",
        "\n",
        "for i in range(1, 6):\n",
        "    if i == 3:\n",
        "        continue\n",
        "    print(i)"
      ],
      "metadata": {
        "colab": {
          "base_uri": "https://localhost:8080/"
        },
        "id": "UAd0d4K1hylU",
        "outputId": "eeb667f1-2534-414d-cb2a-dafd1903dd3b"
      },
      "execution_count": null,
      "outputs": [
        {
          "output_type": "stream",
          "name": "stdout",
          "text": [
            "1\n",
            "2\n",
            "4\n",
            "5\n"
          ]
        }
      ]
    },
    {
      "cell_type": "code",
      "source": [
        "#Ques.3. Print numbers in a list until a negative number is encountered using a while loop.\n",
        "\n",
        "numbers = [5, 8, 12, -3, 9, 10]\n",
        "i = 0\n",
        "while i < len(numbers):\n",
        "    if numbers[i] < 0:\n",
        "        break\n",
        "    print(numbers[i])\n",
        "    i+=1\n",
        "\n"
      ],
      "metadata": {
        "colab": {
          "base_uri": "https://localhost:8080/"
        },
        "id": "skQW2369h4UX",
        "outputId": "3fb14fc9-2761-4ed8-8cb4-75896f70510b"
      },
      "execution_count": null,
      "outputs": [
        {
          "output_type": "stream",
          "name": "stdout",
          "text": [
            "5\n",
            "8\n",
            "12\n"
          ]
        }
      ]
    },
    {
      "cell_type": "code",
      "source": [
        "#Ques.4. Find the common elements in two lists using a for loop.                  list1 = [1,2,3,4,5]\n",
        "# list2 = [3,4,5,6,7]\n",
        "\n",
        "list1 = [1, 2, 3, 4, 5]\n",
        "list2 = [3, 4, 5, 6, 7]\n",
        "common = []\n",
        "for i in list1:\n",
        "    if i in list2:\n",
        "        common.append(i)\n",
        "print(\"Common elements:\",common)"
      ],
      "metadata": {
        "colab": {
          "base_uri": "https://localhost:8080/"
        },
        "id": "kmUINxRtiAPP",
        "outputId": "16654913-39cf-48a2-ea2e-f3901d769051"
      },
      "execution_count": null,
      "outputs": [
        {
          "output_type": "stream",
          "name": "stdout",
          "text": [
            "Common elements: [3, 4, 5]\n"
          ]
        }
      ]
    },
    {
      "cell_type": "code",
      "source": [
        "#Ques.5. Print the Fibonacci sequence up to the 10th term using a while loop.\n",
        "\n",
        "a, b = 0, 1\n",
        "count = 0\n",
        "while count < 10:\n",
        "    print(a, end=\" \")\n",
        "    a, b = b, a + b\n",
        "    count+=1\n"
      ],
      "metadata": {
        "colab": {
          "base_uri": "https://localhost:8080/"
        },
        "id": "RDR7GLpOiFsd",
        "outputId": "c24c3e7b-6ba2-4178-d521-bb888dd6bb1d"
      },
      "execution_count": null,
      "outputs": [
        {
          "output_type": "stream",
          "name": "stdout",
          "text": [
            "0 1 1 2 3 5 8 13 21 34 "
          ]
        }
      ]
    },
    {
      "cell_type": "code",
      "source": [
        "#Ques.6. Print numbers divisible by 3 or 5 from 1 to 20 using a for loop.\n",
        "\n",
        "for i in range(1, 21):\n",
        "    if i % 3 == 0 or i % 5 == 0:\n",
        "      print(i)"
      ],
      "metadata": {
        "colab": {
          "base_uri": "https://localhost:8080/"
        },
        "id": "doBBN9x_iMRC",
        "outputId": "f71eaef5-5bb8-4020-d929-f82f94fe5efd"
      },
      "execution_count": null,
      "outputs": [
        {
          "output_type": "stream",
          "name": "stdout",
          "text": [
            "3\n",
            "5\n",
            "6\n",
            "9\n",
            "10\n",
            "12\n",
            "15\n",
            "18\n",
            "20\n"
          ]
        }
      ]
    },
    {
      "cell_type": "code",
      "source": [
        "#Ques.7. Find all prime numbers between 1 and 50 using nested for and if.\n",
        "\n",
        "for num in range(2, 51):\n",
        "    is_prime = True\n",
        "    for i in range(2, num):\n",
        "        if num % i == 0:\n",
        "            is_prime = False\n",
        "            break\n",
        "    if is_prime:\n",
        "        print(num,end=\" \")\n",
        "\n"
      ],
      "metadata": {
        "colab": {
          "base_uri": "https://localhost:8080/"
        },
        "id": "XLW7NhKAiNRI",
        "outputId": "d7f7e2bc-2f6f-4973-cf1f-fd28616099d6"
      },
      "execution_count": null,
      "outputs": [
        {
          "output_type": "stream",
          "name": "stdout",
          "text": [
            "2 3 5 7 11 13 17 19 23 29 31 37 41 43 47 "
          ]
        }
      ]
    },
    {
      "cell_type": "code",
      "source": [
        "#Ques.8. Find the first occurrence of a number in a list using a while loop.\n",
        "\n",
        "numbers = [4, 7, 2, 7, 9, 7]\n",
        "target = 7\n",
        "i = 0\n",
        "while i < len(numbers):\n",
        "    if numbers[i] == target:\n",
        "        print(\"First occurrence at index:\", i)\n",
        "        break\n",
        "    i+=1"
      ],
      "metadata": {
        "colab": {
          "base_uri": "https://localhost:8080/"
        },
        "id": "e0gPKNWWie3y",
        "outputId": "773b6915-e39b-47e9-c0e1-aaa2a68abdfe"
      },
      "execution_count": null,
      "outputs": [
        {
          "output_type": "stream",
          "name": "stdout",
          "text": [
            "First occurrence at index: 1\n"
          ]
        }
      ]
    },
    {
      "cell_type": "code",
      "source": [
        "#Ques.9. Calculate factorial of a number using a while loop.\n",
        "\n",
        "num = 5\n",
        "fact = 1\n",
        "i = 1\n",
        "while i <= num:\n",
        "    fact *= i\n",
        "    i += 1\n",
        "print(\"Factorial of\", num,\"is\",fact)"
      ],
      "metadata": {
        "colab": {
          "base_uri": "https://localhost:8080/"
        },
        "id": "oorDeUkYiaHH",
        "outputId": "fc7a5b84-7301-48fc-ee6c-6d9775cf7a17"
      },
      "execution_count": null,
      "outputs": [
        {
          "output_type": "stream",
          "name": "stdout",
          "text": [
            "Factorial of 5 is 120\n"
          ]
        }
      ]
    },
    {
      "cell_type": "code",
      "source": [
        "#10.(1)\n",
        "for i in range(1, 6):\n",
        "    for j in range(i):\n",
        "        print(\"*\", end=\" \")\n",
        "    print()"
      ],
      "metadata": {
        "colab": {
          "base_uri": "https://localhost:8080/"
        },
        "id": "uXHgROnpilGI",
        "outputId": "7e57b2f5-9fb8-4cb0-ad07-34210ab5d63e"
      },
      "execution_count": null,
      "outputs": [
        {
          "output_type": "stream",
          "name": "stdout",
          "text": [
            "* \n",
            "* * \n",
            "* * * \n",
            "* * * * \n",
            "* * * * * \n"
          ]
        }
      ]
    },
    {
      "cell_type": "code",
      "source": [
        "#10.(2)\n",
        "rows = 5\n",
        "for i in range(rows, 0, -1):\n",
        "    print(\"* \"*i)"
      ],
      "metadata": {
        "colab": {
          "base_uri": "https://localhost:8080/"
        },
        "id": "Tgh6fBUuitsc",
        "outputId": "d6eaaf81-1512-4f0d-81fe-4051809292eb"
      },
      "execution_count": null,
      "outputs": [
        {
          "output_type": "stream",
          "name": "stdout",
          "text": [
            "* * * * * \n",
            "* * * * \n",
            "* * * \n",
            "* * \n",
            "* \n"
          ]
        }
      ]
    },
    {
      "cell_type": "code",
      "source": [
        "#10.(3)\n",
        "rows = 6\n",
        "for i in range(1, rows + 1):\n",
        "    print(\"* \"*i)"
      ],
      "metadata": {
        "colab": {
          "base_uri": "https://localhost:8080/"
        },
        "id": "Uu22Orfbixjj",
        "outputId": "3523e46b-4345-437a-c249-8ba3b3734267"
      },
      "execution_count": null,
      "outputs": [
        {
          "output_type": "stream",
          "name": "stdout",
          "text": [
            "* \n",
            "* * \n",
            "* * * \n",
            "* * * * \n",
            "* * * * * \n",
            "* * * * * * \n"
          ]
        }
      ]
    }
  ]
}