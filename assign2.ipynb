{
  "nbformat": 4,
  "nbformat_minor": 0,
  "metadata": {
    "colab": {
      "provenance": []
    },
    "kernelspec": {
      "name": "python3",
      "display_name": "Python 3"
    },
    "language_info": {
      "name": "python"
    }
  },
  "cells": [
    {
      "cell_type": "code",
      "execution_count": null,
      "metadata": {
        "colab": {
          "base_uri": "https://localhost:8080/"
        },
        "id": "mmkyP6oib0xM",
        "outputId": "473dc179-425f-4fee-e8c5-14d4c348ad28"
      },
      "outputs": [
        {
          "output_type": "stream",
          "name": "stdout",
          "text": [
            "Students Dictionary: {101: 'Neha', 102: 'Meena', 103: 'Raj', 104: 'Riya', 105: 'Eva'}\n"
          ]
        }
      ],
      "source": [
        "#1.Create a dictionary of 5 students with roll numbers as keys and names as values.\n",
        "\n",
        "students = {\n",
        " 101: \"Neha\",\n",
        " 102: \"Meena\",\n",
        " 103: \"Raj\",\n",
        " 104: \"Riya\",\n",
        " 105: \"Eva\"\n",
        "}\n",
        "print(\"Students Dictionary:\", students)\n",
        "\n",
        "\n"
      ]
    },
    {
      "cell_type": "code",
      "source": [
        "#2.Write a Python program to count the frequency of each character in a string using a dictionary.\n",
        "string = \"hello world\"\n",
        "freq = {}\n",
        "for char in string:\n",
        "  freq[char] = freq.get(char, 0) + 1\n",
        "print(\"Character Frequency:\", freq)"
      ],
      "metadata": {
        "colab": {
          "base_uri": "https://localhost:8080/"
        },
        "id": "rGO_XmjUcPP_",
        "outputId": "99e52c17-3562-4c01-f2a3-fabe2499a582"
      },
      "execution_count": null,
      "outputs": [
        {
          "output_type": "stream",
          "name": "stdout",
          "text": [
            "Character Frequency: {'h': 1, 'e': 1, 'l': 3, 'o': 2, ' ': 1, 'w': 1, 'r': 1, 'd': 1}\n"
          ]
        }
      ]
    },
    {
      "cell_type": "code",
      "source": [
        "#3.Given a dictionary employee = {'John': 50000, 'Anna': 65000, 'Mike': 45000}, increase each employee’s salary by 10%\n",
        "employees = {\"John\": 50000, \"Anna\": 65000, \"Mike\": 45000}\n",
        "updated = {k: v + v*0.10 for k, v in employees.items()}\n",
        "print(\"Updated Salaries:\", updated)\n",
        "\n"
      ],
      "metadata": {
        "colab": {
          "base_uri": "https://localhost:8080/"
        },
        "id": "pGjdZE7tcJqH",
        "outputId": "47abd4c7-1e55-4a2a-856d-bdf296fa0b7c"
      },
      "execution_count": null,
      "outputs": [
        {
          "output_type": "stream",
          "name": "stdout",
          "text": [
            "Updated Salaries: {'John': 55000.0, 'Anna': 71500.0, 'Mike': 49500.0}\n"
          ]
        }
      ]
    },
    {
      "cell_type": "code",
      "source": [
        "#4.Write a Python script to merge two dictionaries.\n",
        "\n",
        "\n",
        "dict1 = {\"a\": 1, \"b\": 2}\n",
        "dict2 = {\"c\": 3, \"d\": 4}\n",
        "merged = {**dict1, **dict2}\n",
        "print(\"Merged Dictionary:\", merged)"
      ],
      "metadata": {
        "colab": {
          "base_uri": "https://localhost:8080/"
        },
        "id": "1LeTUmkFcMK6",
        "outputId": "c06617bc-cd80-4359-c09a-dcbf0c7c8204"
      },
      "execution_count": null,
      "outputs": [
        {
          "output_type": "stream",
          "name": "stdout",
          "text": [
            "Merged Dictionary: {'a': 1, 'b': 2, 'c': 3, 'd': 4}\n"
          ]
        }
      ]
    },
    {
      "cell_type": "code",
      "source": [
        "#5.Write a program to find the key with the maximum value in a dictionary.\n",
        "sample_dict = {\"a\": 10, \"b\": 25, \"c\": 15}\n",
        "max_key = max(sample_dict, key=sample_dict.get)\n",
        "print(\"Key with max value:\", max_key)"
      ],
      "metadata": {
        "colab": {
          "base_uri": "https://localhost:8080/"
        },
        "id": "lthK2jzbcQRa",
        "outputId": "b60eabef-cb1b-4867-d999-a7f0a847e234"
      },
      "execution_count": null,
      "outputs": [
        {
          "output_type": "stream",
          "name": "stdout",
          "text": [
            "Key with max value: b\n"
          ]
        }
      ]
    },
    {
      "cell_type": "code",
      "source": [
        "#6.Write a lambda function to add 15 to a given number.\n",
        "\n",
        "add15 = lambda x: x + 15\n",
        "print(\"Add 15:\", add15(10))"
      ],
      "metadata": {
        "colab": {
          "base_uri": "https://localhost:8080/"
        },
        "id": "953WizOPcf9z",
        "outputId": "93265ef5-5033-49f0-b605-3d8d06c5d752"
      },
      "execution_count": null,
      "outputs": [
        {
          "output_type": "stream",
          "name": "stdout",
          "text": [
            "Add 15: 25\n"
          ]
        }
      ]
    },
    {
      "cell_type": "code",
      "source": [
        "#7.Use lambda to find the cube of a number.\n",
        "cube = lambda x: x**3\n",
        "print(\"Cube of 3:\", cube(3))"
      ],
      "metadata": {
        "colab": {
          "base_uri": "https://localhost:8080/"
        },
        "id": "WVmuKMficz_U",
        "outputId": "75ffad99-1d25-4eac-9add-b5d79d7acedb"
      },
      "execution_count": null,
      "outputs": [
        {
          "output_type": "stream",
          "name": "stdout",
          "text": [
            "Cube of 3: 27\n"
          ]
        }
      ]
    },
    {
      "cell_type": "code",
      "source": [
        "#8.Given a list of numbers, use map() and a lambda function to get a list of their cubes.\n",
        "\n",
        "numbers = [1, 2, 3, 4, 5]\n",
        "cubes = list(map(lambda x: x**3, numbers))\n",
        "print(\"Cubes List:\", cubes)"
      ],
      "metadata": {
        "colab": {
          "base_uri": "https://localhost:8080/"
        },
        "id": "bxyYOnWOctp0",
        "outputId": "19cbabb0-69ba-436a-9102-c0035c85c3e2"
      },
      "execution_count": null,
      "outputs": [
        {
          "output_type": "stream",
          "name": "stdout",
          "text": [
            "Cubes List: [1, 8, 27, 64, 125]\n"
          ]
        }
      ]
    },
    {
      "cell_type": "code",
      "source": [
        "#9.Use filter() and lambda to extract numbers divisible by 5 from a list.\n",
        "\n",
        "nums = [10, 21, 25, 33, 40, 42]\n",
        "div_by_5 = list(filter(lambda x: x % 5 == 0, nums))\n",
        "print(\"Divisible by 5:\", div_by_5)"
      ],
      "metadata": {
        "colab": {
          "base_uri": "https://localhost:8080/"
        },
        "id": "CU76IQZTdOfH",
        "outputId": "8cd0dcb6-5c1f-4c3b-fcc1-8ea1a49a51a1"
      },
      "execution_count": null,
      "outputs": [
        {
          "output_type": "stream",
          "name": "stdout",
          "text": [
            "Divisible by 5: [10, 25, 40]\n"
          ]
        }
      ]
    },
    {
      "cell_type": "code",
      "source": [
        "#10.Sort a list of tuples based on the second item using a lambda function.\n",
        "\n",
        "tuples = [(1, 3), (2, 1), (4, 2)]\n",
        "sorted_tuples = sorted(tuples, key=lambda x: x[1])\n",
        "print(\"Sorted Tuples:\", sorted_tuples)\n"
      ],
      "metadata": {
        "colab": {
          "base_uri": "https://localhost:8080/"
        },
        "id": "zP7Tz6ZbcrlL",
        "outputId": "280598d7-385a-4306-adc3-e8c4e7a1cc19"
      },
      "execution_count": null,
      "outputs": [
        {
          "output_type": "stream",
          "name": "stdout",
          "text": [
            "Sorted Tuples: [(2, 1), (4, 2), (1, 3)]\n"
          ]
        }
      ]
    },
    {
      "cell_type": "code",
      "source": [
        "#11.Use reduce() and a lambda function to compute the product of a list of numbers.\n",
        "\n",
        "from functools import reduce\n",
        "nums = [1, 2, 3, 4, 5]\n",
        "product = reduce(lambda x, y: x * y, nums)\n",
        "print(\"Product of Numbers:\",product)"
      ],
      "metadata": {
        "colab": {
          "base_uri": "https://localhost:8080/"
        },
        "id": "s1Vz8QuodDDB",
        "outputId": "d0396f10-0a54-47a2-bfdb-3e1b389c6533"
      },
      "execution_count": null,
      "outputs": [
        {
          "output_type": "stream",
          "name": "stdout",
          "text": [
            "Product of Numbers: 120\n"
          ]
        }
      ]
    }
  ]
}